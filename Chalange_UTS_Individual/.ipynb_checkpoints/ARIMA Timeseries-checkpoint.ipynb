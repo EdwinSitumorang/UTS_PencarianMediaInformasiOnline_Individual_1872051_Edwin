{
 "cells": [
  {
   "cell_type": "code",
   "execution_count": 1,
   "metadata": {
    "id": "s_8-QUDjH7PR"
   },
   "outputs": [],
   "source": [
    "import pandas as pd"
   ]
  },
  {
   "cell_type": "code",
   "execution_count": 2,
   "metadata": {
    "id": "FaWXiLT3IIYL"
   },
   "outputs": [],
   "source": [
    "location = \"freq_kata.csv\""
   ]
  },
  {
   "cell_type": "code",
   "execution_count": 3,
   "metadata": {
    "id": "Roawb8XrIVoY"
   },
   "outputs": [],
   "source": [
    "df = pd.read_csv(location)"
   ]
  },
  {
   "cell_type": "code",
   "execution_count": 4,
   "metadata": {
    "id": "T9lexO0KL51Z"
   },
   "outputs": [],
   "source": [
    "from matplotlib import pyplot as plt"
   ]
  },
  {
   "cell_type": "code",
   "execution_count": 5,
   "metadata": {
    "colab": {
     "base_uri": "https://localhost:8080/",
     "height": 296
    },
    "id": "mNcwGb4JLxgW",
    "outputId": "72b58a1b-2b21-425f-f269-f2e5982cb717"
   },
   "outputs": [
    {
     "data": {
      "text/plain": [
       "[<matplotlib.lines.Line2D at 0x1cf144de908>]"
      ]
     },
     "execution_count": 5,
     "metadata": {},
     "output_type": "execute_result"
    },
    {
     "data": {
      "image/png": "[encoded data removed]",
      "text/plain": [
       "<Figure size 432x288 with 1 Axes>"
      ]
     },
     "metadata": {
      "needs_background": "light"
     },
     "output_type": "display_data"
    }
   ],
   "source": [
    "df = pd.read_csv(location, parse_dates = ['created_at'], index_col = ['created_at'])\n",
    "df.drop(df.columns[0], axis=1, inplace=True)\n",
    "plt.xlabel('Date')\n",
    "plt.ylabel('VirusCorona')\n",
    "plt.plot(df)\n"
   ]
  },
  {
   "cell_type": "code",
   "execution_count": 6,
   "metadata": {},
   "outputs": [
    {
     "data": {
      "text/html": [
       "<div>\n",
       "<style scoped>\n",
       "    .dataframe tbody tr th:only-of-type {\n",
       "        vertical-align: middle;\n",
       "    }\n",
       "\n",
       "    .dataframe tbody tr th {\n",
       "        vertical-align: top;\n",
       "    }\n",
       "\n",
       "    .dataframe thead th {\n",
       "        text-align: right;\n",
       "    }\n",
       "</style>\n",
       "<table border=\"1\" class=\"dataframe\">\n",
       "  <thead>\n",
       "    <tr style=\"text-align: right;\">\n",
       "      <th></th>\n",
       "      <th>viruscorona</th>\n",
       "    </tr>\n",
       "    <tr>\n",
       "      <th>created_at</th>\n",
       "      <th></th>\n",
       "    </tr>\n",
       "  </thead>\n",
       "  <tbody>\n",
       "    <tr>\n",
       "      <th>2020-02-01</th>\n",
       "      <td>0</td>\n",
       "    </tr>\n",
       "    <tr>\n",
       "      <th>2020-02-01</th>\n",
       "      <td>0</td>\n",
       "    </tr>\n",
       "    <tr>\n",
       "      <th>2020-02-01</th>\n",
       "      <td>0</td>\n",
       "    </tr>\n",
       "    <tr>\n",
       "      <th>2020-02-01</th>\n",
       "      <td>0</td>\n",
       "    </tr>\n",
       "    <tr>\n",
       "      <th>2020-02-01</th>\n",
       "      <td>0</td>\n",
       "    </tr>\n",
       "  </tbody>\n",
       "</table>\n",
       "</div>"
      ],
      "text/plain": [
       "            viruscorona\n",
       "created_at             \n",
       "2020-02-01            0\n",
       "2020-02-01            0\n",
       "2020-02-01            0\n",
       "2020-02-01            0\n",
       "2020-02-01            0"
      ]
     },
     "execution_count": 6,
     "metadata": {},
     "output_type": "execute_result"
    }
   ],
   "source": [
    "df.index = df.index.to_period('D')\n",
    "df.head()"
   ]
  },
  {
   "cell_type": "code",
   "execution_count": 7,
   "metadata": {},
   "outputs": [
    {
     "data": {
      "text/html": [
       "<div>\n",
       "<style scoped>\n",
       "    .dataframe tbody tr th:only-of-type {\n",
       "        vertical-align: middle;\n",
       "    }\n",
       "\n",
       "    .dataframe tbody tr th {\n",
       "        vertical-align: top;\n",
       "    }\n",
       "\n",
       "    .dataframe thead th {\n",
       "        text-align: right;\n",
       "    }\n",
       "</style>\n",
       "<table border=\"1\" class=\"dataframe\">\n",
       "  <thead>\n",
       "    <tr style=\"text-align: right;\">\n",
       "      <th></th>\n",
       "      <th>viruscorona</th>\n",
       "    </tr>\n",
       "    <tr>\n",
       "      <th>created_at</th>\n",
       "      <th></th>\n",
       "    </tr>\n",
       "  </thead>\n",
       "  <tbody>\n",
       "    <tr>\n",
       "      <th>2020-02-01</th>\n",
       "      <td>0</td>\n",
       "    </tr>\n",
       "    <tr>\n",
       "      <th>2020-02-02</th>\n",
       "      <td>1</td>\n",
       "    </tr>\n",
       "    <tr>\n",
       "      <th>2020-02-03</th>\n",
       "      <td>1</td>\n",
       "    </tr>\n",
       "    <tr>\n",
       "      <th>2020-02-04</th>\n",
       "      <td>5</td>\n",
       "    </tr>\n",
       "    <tr>\n",
       "      <th>2020-02-05</th>\n",
       "      <td>1</td>\n",
       "    </tr>\n",
       "  </tbody>\n",
       "</table>\n",
       "</div>"
      ],
      "text/plain": [
       "            viruscorona\n",
       "created_at             \n",
       "2020-02-01            0\n",
       "2020-02-02            1\n",
       "2020-02-03            1\n",
       "2020-02-04            5\n",
       "2020-02-05            1"
      ]
     },
     "execution_count": 7,
     "metadata": {},
     "output_type": "execute_result"
    }
   ],
   "source": [
    "df = df.groupby('created_at').sum()\n",
    "df.head()"
   ]
  },
  {
   "cell_type": "code",
   "execution_count": 8,
   "metadata": {
    "id": "nD3JKusMS339"
   },
   "outputs": [],
   "source": [
    "from pandas.plotting import autocorrelation_plot"
   ]
  },
  {
   "cell_type": "code",
   "execution_count": 9,
   "metadata": {
    "colab": {
     "base_uri": "https://localhost:8080/",
     "height": 283
    },
    "id": "heegvrtSSvtW",
    "outputId": "987cfc1a-5afd-4f3a-a509-1376aa252a41",
    "scrolled": true
   },
   "outputs": [
    {
     "data": {
      "image/png": "[encoded data removed]",
      "text/plain": [
       "<Figure size 432x288 with 1 Axes>"
      ]
     },
     "metadata": {
      "needs_background": "light"
     },
     "output_type": "display_data"
    }
   ],
   "source": [
    "autocorrelation_plot(df)\n",
    "plt.show()"
   ]
  },
  {
   "cell_type": "markdown",
   "metadata": {
    "id": "u61KQeLfTAF1"
   },
   "source": [
    "Lag = 10"
   ]
  },
  {
   "cell_type": "code",
   "execution_count": 10,
   "metadata": {
    "colab": {
     "base_uri": "https://localhost:8080/",
     "height": 350
    },
    "id": "0TbX_RyLTCAa",
    "outputId": "8014e197-4c90-4d60-d9e4-5e928c417537"
   },
   "outputs": [],
   "source": [
    "from statsmodels.tsa.arima.model import ARIMA\n",
    "# fit model\n",
    "model = ARIMA(df, order=(10,1,0))\n",
    "model_fit = model.fit()"
   ]
  },
  {
   "cell_type": "code",
   "execution_count": 11,
   "metadata": {},
   "outputs": [
    {
     "name": "stdout",
     "output_type": "stream",
     "text": [
      "                               SARIMAX Results                                \n",
      "==============================================================================\n",
      "Dep. Variable:            viruscorona   No. Observations:                   89\n",
      "Model:                ARIMA(10, 1, 0)   Log Likelihood                 -85.714\n",
      "Date:                Fri, 16 Apr 2021   AIC                            193.428\n",
      "Time:                        14:20:01   BIC                            220.678\n",
      "Sample:                    02-01-2020   HQIC                           204.406\n",
      "                         - 04-29-2020                                         \n",
      "Covariance Type:                  opg                                         \n",
      "==============================================================================\n",
      "                 coef    std err          z      P>|z|      [0.025      0.975]\n",
      "------------------------------------------------------------------------------\n",
      "ar.L1         -0.6809      0.098     -6.936      0.000      -0.873      -0.488\n",
      "ar.L2         -0.3721      0.133     -2.792      0.005      -0.633      -0.111\n",
      "ar.L3         -0.3044      0.172     -1.770      0.077      -0.641       0.033\n",
      "ar.L4         -0.3124      0.175     -1.787      0.074      -0.655       0.030\n",
      "ar.L5         -0.5662      0.145     -3.903      0.000      -0.850      -0.282\n",
      "ar.L6         -0.5396      0.146     -3.699      0.000      -0.825      -0.254\n",
      "ar.L7         -0.1289      0.165     -0.784      0.433      -0.451       0.194\n",
      "ar.L8         -0.2456      0.164     -1.497      0.134      -0.567       0.076\n",
      "ar.L9         -0.1874      0.145     -1.292      0.196      -0.472       0.097\n",
      "ar.L10        -0.1197      0.111     -1.077      0.282      -0.337       0.098\n",
      "sigma2         0.3993      0.049      8.101      0.000       0.303       0.496\n",
      "===================================================================================\n",
      "Ljung-Box (Q):                       25.76   Jarque-Bera (JB):               451.29\n",
      "Prob(Q):                              0.96   Prob(JB):                         0.00\n",
      "Heteroskedasticity (H):               0.14   Skew:                             2.12\n",
      "Prob(H) (two-sided):                  0.00   Kurtosis:                        13.25\n",
      "===================================================================================\n",
      "\n",
      "Warnings:\n",
      "[1] Covariance matrix calculated using the outer product of gradients (complex-step).\n"
     ]
    }
   ],
   "source": [
    "# summary of fit model\n",
    "print(model_fit.summary())"
   ]
  },
  {
   "cell_type": "code",
   "execution_count": 12,
   "metadata": {},
   "outputs": [
    {
     "data": {
      "image/png": "[encoded data removed]",
      "text/plain": [
       "<Figure size 432x288 with 1 Axes>"
      ]
     },
     "metadata": {
      "needs_background": "light"
     },
     "output_type": "display_data"
    }
   ],
   "source": [
    "# line plot of residuals\n",
    "residuals = pd.DataFrame(model_fit.resid)\n",
    "residuals.plot()\n",
    "plt.show()"
   ]
  },
  {
   "cell_type": "code",
   "execution_count": 13,
   "metadata": {},
   "outputs": [
    {
     "data": {
      "image/png": "[encoded data removed]",
      "text/plain": [
       "<Figure size 432x288 with 1 Axes>"
      ]
     },
     "metadata": {
      "needs_background": "light"
     },
     "output_type": "display_data"
    }
   ],
   "source": [
    "# density plot of residuals\n",
    "residuals.plot(kind='kde')\n",
    "plt.show()"
   ]
  },
  {
   "cell_type": "code",
   "execution_count": 14,
   "metadata": {},
   "outputs": [
    {
     "name": "stdout",
     "output_type": "stream",
     "text": [
      "               0\n",
      "count  89.000000\n",
      "mean   -0.019183\n",
      "std     0.691836\n",
      "min    -1.492091\n",
      "25%    -0.308731\n",
      "50%    -0.026600\n",
      "75%     0.116654\n",
      "max     4.207753\n"
     ]
    }
   ],
   "source": [
    "# summary stats of residuals\n",
    "print(residuals.describe())"
   ]
  },
  {
   "cell_type": "markdown",
   "metadata": {},
   "source": [
    "# Forecasting Timeseries"
   ]
  },
  {
   "cell_type": "code",
   "execution_count": 15,
   "metadata": {},
   "outputs": [],
   "source": [
    "from sklearn.metrics import mean_squared_error\n",
    "from math import sqrt"
   ]
  },
  {
   "cell_type": "markdown",
   "metadata": {},
   "source": [
    "Merah = predictions\n",
    "Biru = expected value"
   ]
  },
  {
   "cell_type": "code",
   "execution_count": 16,
   "metadata": {},
   "outputs": [
    {
     "name": "stdout",
     "output_type": "stream",
     "text": [
      "predicted=0.410638, expected=0.000000\n",
      "predicted=-0.113768, expected=1.000000\n",
      "predicted=0.356424, expected=1.000000\n",
      "predicted=0.667272, expected=5.000000\n",
      "predicted=2.377672, expected=1.000000\n",
      "predicted=2.335888, expected=1.000000\n",
      "predicted=0.421279, expected=1.000000\n",
      "predicted=0.457693, expected=0.000000\n",
      "predicted=-0.150723, expected=0.000000\n",
      "predicted=0.000297, expected=0.000000\n",
      "predicted=1.397600, expected=1.000000\n",
      "predicted=0.364627, expected=0.000000\n",
      "predicted=0.955955, expected=0.000000\n",
      "predicted=1.864450, expected=0.000000\n",
      "predicted=0.537776, expected=0.000000\n",
      "predicted=0.076035, expected=0.000000\n",
      "predicted=0.253331, expected=0.000000\n",
      "predicted=0.389078, expected=0.000000\n",
      "predicted=-0.079562, expected=0.000000\n",
      "predicted=-0.023716, expected=0.000000\n",
      "predicted=0.158392, expected=0.000000\n",
      "predicted=0.053211, expected=0.000000\n",
      "predicted=0.000000, expected=0.000000\n",
      "predicted=-0.000000, expected=0.000000\n",
      "predicted=0.000000, expected=0.000000\n",
      "predicted=0.000000, expected=0.000000\n",
      "predicted=0.000000, expected=0.000000\n",
      "predicted=-0.000000, expected=0.000000\n",
      "predicted=0.000000, expected=0.000000\n",
      "predicted=0.000000, expected=0.000000\n",
      "predicted=0.000000, expected=0.000000\n",
      "predicted=-0.000000, expected=0.000000\n",
      "predicted=0.000000, expected=1.000000\n",
      "predicted=0.341829, expected=1.000000\n",
      "predicted=0.668143, expected=1.000000\n",
      "predicted=0.723552, expected=1.000000\n",
      "predicted=0.674235, expected=0.000000\n",
      "predicted=0.186774, expected=0.000000\n",
      "predicted=-0.105860, expected=0.000000\n",
      "predicted=0.176151, expected=0.000000\n",
      "predicted=0.157984, expected=0.000000\n",
      "predicted=0.246576, expected=0.000000\n",
      "predicted=0.371481, expected=2.000000\n",
      "predicted=0.833375, expected=0.000000\n",
      "predicted=0.842964, expected=1.000000\n",
      "predicted=0.644128, expected=2.000000\n",
      "predicted=0.873870, expected=2.000000\n",
      "predicted=1.116335, expected=0.000000\n",
      "predicted=0.750847, expected=1.000000\n",
      "predicted=0.954834, expected=0.000000\n",
      "predicted=-0.225753, expected=0.000000\n",
      "predicted=0.026125, expected=0.000000\n",
      "predicted=0.958053, expected=0.000000\n",
      "predicted=0.460840, expected=0.000000\n",
      "predicted=0.061567, expected=0.000000\n",
      "predicted=0.681792, expected=1.000000\n",
      "predicted=0.741165, expected=0.000000\n",
      "predicted=0.455916, expected=0.000000\n",
      "predicted=0.242340, expected=0.000000\n",
      "predicted=0.025864, expected=0.000000\n",
      "predicted=-0.167203, expected=0.000000\n",
      "predicted=0.019141, expected=0.000000\n",
      "predicted=0.287562, expected=0.000000\n",
      "predicted=-0.075033, expected=0.000000\n",
      "predicted=0.024330, expected=0.000000\n",
      "predicted=0.163793, expected=0.000000\n",
      "predicted=0.043891, expected=0.000000\n",
      "predicted=0.000000, expected=0.000000\n",
      "predicted=-0.000000, expected=0.000000\n",
      "predicted=-0.000000, expected=0.000000\n",
      "predicted=-0.000000, expected=0.000000\n",
      "predicted=-0.000000, expected=1.000000\n",
      "predicted=0.333439, expected=0.000000\n",
      "predicted=0.316803, expected=0.000000\n",
      "predicted=0.076546, expected=0.000000\n",
      "predicted=-0.015409, expected=0.000000\n",
      "predicted=-0.163067, expected=0.000000\n",
      "predicted=0.018089, expected=0.000000\n",
      "predicted=0.281462, expected=0.000000\n",
      "predicted=-0.071887, expected=0.000000\n",
      "predicted=0.026892, expected=0.000000\n",
      "predicted=0.163246, expected=0.000000\n",
      "predicted=0.045169, expected=1.000000\n",
      "predicted=0.327663, expected=0.000000\n",
      "predicted=0.312021, expected=0.000000\n",
      "predicted=0.078789, expected=0.000000\n",
      "predicted=-0.016327, expected=0.000000\n",
      "predicted=-0.159214, expected=0.000000\n",
      "predicted=0.019931, expected=0.000000\n",
      "Test RMSE: 0.717\n"
     ]
    },
    {
     "data": {
      "image/png": "[encoded data removed]",
      "text/plain": [
       "<Figure size 432x288 with 1 Axes>"
      ]
     },
     "metadata": {
      "needs_background": "light"
     },
     "output_type": "display_data"
    }
   ],
   "source": [
    "# split into train and test sets\n",
    "X = df.values\n",
    "#size = int(len(X) * 0.66)\n",
    "#train, test = X[0:size], X[size:len(X)]\n",
    "train, test = X, X\n",
    "history = [x for x in train]\n",
    "predictions = list()\n",
    "# walk-forward validation\n",
    "for t in range(len(test)):\n",
    "\tmodel = ARIMA(history, order=(10,1,0))\n",
    "\tmodel_fit = model.fit()\n",
    "\toutput = model_fit.forecast()\n",
    "\tyhat = output[0]\n",
    "\tpredictions.append(yhat)\n",
    "\tobs = test[t]\n",
    "\thistory.append(obs)\n",
    "\tprint('predicted=%f, expected=%f' % (yhat, obs))\n",
    "# evaluate forecasts\n",
    "rmse = sqrt(mean_squared_error(test, predictions))\n",
    "print('Test RMSE: %.3f' % rmse)\n",
    "# plot forecasts against actual outcomes\n",
    "plt.plot(test)\n",
    "plt.plot(predictions, color='red')\n",
    "plt.show()"
   ]
  }
 ],
 "metadata": {
  "colab": {
   "name": "Coba Arima UTS.ipynb",
   "provenance": []
  },
  "kernelspec": {
   "display_name": "Python 3",
   "language": "python",
   "name": "python3"
  },
  "language_info": {
   "codemirror_mode": {
    "name": "ipython",
    "version": 3
   },
   "file_extension": ".py",
   "mimetype": "text/x-python",
   "name": "python",
   "nbconvert_exporter": "python",
   "pygments_lexer": "ipython3",
   "version": "3.7.7"
  }
 },
 "nbformat": 4,
 "nbformat_minor": 1
}
